{
 "cells": [
  {
   "cell_type": "code",
   "execution_count": 1,
   "id": "comparative-bidding",
   "metadata": {
    "tags": []
   },
   "outputs": [],
   "source": [
    "import numpy as np\n",
    "import scipy.linalg\n",
    "from scipy.stats import ortho_group\n",
    "from scipy.io import loadmat\n",
    "from localizer import Localizer\n",
    "import psi4\n",
    "\n",
    "#https://github.com/molmod/molmod\n",
    "from molmod.units import angstrom, debye\n",
    "\n",
    "import matplotlib.pyplot as plt\n",
    "\n",
    "#importing the QM7 database\n",
    "data = dict(loadmat('../molecule_geometries/qm7.mat'))\n",
    "Z = data['Z'] # numbers\n",
    "R = data['R']/angstrom # positions in angstrom\n",
    "\n",
    "# Molecule order: H2O,CO2,HCN,Acetonitrile,H2SO4,Benzene,Diborane\n",
    "numbers = np.load('../molecule_geometries/nuclei_numbers.npy')\n",
    "positions = np.load('../molecule_geometries/positions.npy')"
   ]
  },
  {
   "cell_type": "code",
   "execution_count": 7,
   "id": "focused-accident",
   "metadata": {},
   "outputs": [
    {
     "name": "stdout",
     "output_type": "stream",
     "text": [
      "Psi4 Model initiated with method scf and basis set 6-311ppg_d_p_\n"
     ]
    }
   ],
   "source": [
    "loc = Localizer(numbers[1],positions[1])"
   ]
  },
  {
   "cell_type": "code",
   "execution_count": 2,
   "id": "local-carolina",
   "metadata": {},
   "outputs": [
    {
     "name": "stdout",
     "output_type": "stream",
     "text": [
      "Psi4 Model initiated with method scf and basis set 6-311ppg_d_p_\n"
     ]
    }
   ],
   "source": [
    "loc = Localizer(Z[0],R[0],0)"
   ]
  },
  {
   "cell_type": "code",
   "execution_count": 8,
   "id": "gorgeous-building",
   "metadata": {
    "tags": []
   },
   "outputs": [
    {
     "name": "stdout",
     "output_type": "stream",
     "text": [
      "['V2', 0.0]\n",
      "Convergence: norm of riemann gradient below 10^-5\n",
      "['V2', 0.3333333333333333]\n",
      "Convergence: norm of riemann gradient below 10^-5\n",
      "['V2', 0.6666666666666666]\n",
      "Convergence: norm of riemann gradient below 10^-5\n",
      "['V2', 1.0]\n",
      "Convergence: norm of riemann gradient below 10^-5\n",
      "['V2', 1.3333333333333333]\n",
      "Convergence: stepsize < 10^-10\n",
      "['V2', 1.6666666666666665]\n",
      "Convergence: stepsize < 10^-10\n",
      "['V2', 2.0]\n",
      "Convergence: stepsize < 10^-10\n",
      "['V2', 2.333333333333333]\n",
      "No convergence!\n",
      "['V2', 2.6666666666666665]\n",
      "Convergence: stepsize < 10^-10\n",
      "['V2', 3.0]\n",
      "No convergence!\n"
     ]
    }
   ],
   "source": [
    "w, quad_diff = loc.perform_sweep(p_min=0.,p_max=3., scheme='V2')"
   ]
  },
  {
   "cell_type": "code",
   "execution_count": 11,
   "id": "christian-maple",
   "metadata": {},
   "outputs": [
    {
     "data": {
      "text/plain": [
       "[<matplotlib.lines.Line2D at 0x7fd1901ba7d0>]"
      ]
     },
     "execution_count": 11,
     "metadata": {},
     "output_type": "execute_result"
    },
    {
     "data": {
      "image/png": "[encoded data removed]",
      "text/plain": [
       "<Figure size 432x288 with 1 Axes>"
      ]
     },
     "metadata": {
      "needs_background": "light"
     },
     "output_type": "display_data"
    }
   ],
   "source": [
    "plt.plot(w,quad_diff[:,0,0])"
   ]
  },
  {
   "cell_type": "markdown",
   "id": "assigned-coating",
   "metadata": {},
   "source": [
    "## Parameter sweep using bondlengths for CO2"
   ]
  },
  {
   "cell_type": "code",
   "execution_count": 10,
   "id": "collected-survivor",
   "metadata": {
    "scrolled": true,
    "tags": []
   },
   "outputs": [
    {
     "name": "stdout",
     "output_type": "stream",
     "text": [
      "Psi4 Model initiated with method scf and basis set 6-311ppg_d_p_\n",
      "Convergence: norm of riemann gradient below 10^-5\n",
      "Psi4 Model initiated with method scf and basis set 6-311ppg_d_p_\n",
      "Convergence: norm of riemann gradient below 10^-5\n",
      "Psi4 Model initiated with method scf and basis set 6-311ppg_d_p_\n",
      "Convergence: norm of riemann gradient below 10^-5\n",
      "Psi4 Model initiated with method scf and basis set 6-311ppg_d_p_\n",
      "Convergence: norm of riemann gradient below 10^-5\n",
      "Psi4 Model initiated with method scf and basis set 6-311ppg_d_p_\n",
      "Convergence: norm of riemann gradient below 10^-5\n",
      "Psi4 Model initiated with method scf and basis set 6-311ppg_d_p_\n",
      "Convergence: norm of riemann gradient below 10^-5\n",
      "Psi4 Model initiated with method scf and basis set 6-311ppg_d_p_\n",
      "Convergence: norm of riemann gradient below 10^-5\n",
      "Psi4 Model initiated with method scf and basis set 6-311ppg_d_p_\n",
      "Convergence: norm of riemann gradient below 10^-5\n",
      "Psi4 Model initiated with method scf and basis set 6-311ppg_d_p_\n",
      "Convergence: norm of riemann gradient below 10^-5\n",
      "Psi4 Model initiated with method scf and basis set 6-311ppg_d_p_\n",
      "Convergence: norm of riemann gradient below 10^-5\n",
      "Psi4 Model initiated with method scf and basis set 6-311ppg_d_p_\n",
      "Convergence: norm of riemann gradient below 10^-5\n",
      "Psi4 Model initiated with method scf and basis set 6-311ppg_d_p_\n",
      "Convergence: norm of riemann gradient below 10^-5\n",
      "Psi4 Model initiated with method scf and basis set 6-311ppg_d_p_\n",
      "Convergence: norm of riemann gradient below 10^-5\n",
      "Psi4 Model initiated with method scf and basis set 6-311ppg_d_p_\n",
      "Convergence: norm of riemann gradient below 10^-5\n",
      "Psi4 Model initiated with method scf and basis set 6-311ppg_d_p_\n",
      "Convergence: norm of riemann gradient below 10^-5\n"
     ]
    }
   ],
   "source": [
    "length = np.linspace(-0.03, 0.03, 15)\n",
    "for l in length:\n",
    "    p = np.zeros((3,3))\n",
    "    p[0,0] = -l\n",
    "    p[1,0] = l\n",
    "    p += positions\n",
    "    loc = Localizer(numbers, p)\n",
    "    loc.optimize_line_search()\n",
    "    loc.write_centers(append=True,filename='xyz_files/CO2_bond_sweep.xyz')"
   ]
  }
 ],
 "metadata": {
  "kernelspec": {
   "display_name": "Python 3",
   "language": "python",
   "name": "python3"
  },
  "language_info": {
   "codemirror_mode": {
    "name": "ipython",
    "version": 3
   },
   "file_extension": ".py",
   "mimetype": "text/x-python",
   "name": "python",
   "nbconvert_exporter": "python",
   "pygments_lexer": "ipython3",
   "version": "3.7.9"
  }
 },
 "nbformat": 4,
 "nbformat_minor": 5
}
