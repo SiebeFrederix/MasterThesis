{
 "cells": [
  {
   "cell_type": "code",
   "execution_count": 1,
   "id": "statutory-above",
   "metadata": {
    "tags": []
   },
   "outputs": [],
   "source": [
    "import numpy as np\n",
    "from core import Psi4Model, XYZLogger, MoleculeString #, load_xyz\n",
    "from scipy.io import loadmat\n",
    "import random\n",
    "\n",
    "#importing the centered QM7 database\n",
    "Z = np.load('../data/molecule_geometries/qm7_Z.npy')\n",
    "R = np.load('../data/molecule_geometries/qm7_R_centered.npy')\n",
    "\n",
    "# Molecule order: H2O,CO2,HCN,Acetonitrile,H2SO4,Benzene,Diborane\n",
    "numbers = np.load('../data/molecule_geometries/nuclei_numbers.npy')\n",
    "positions = np.load('../data/molecule_geometries/positions.npy')\n",
    "\n",
    "# Load already existing geomtries\n",
    "geometries = np.load('../data/molecule_geometries/optimized_geometries.npy', allow_pickle=True).tolist()\n",
    "nuclei_numbers = np.load('../data/molecule_geometries/optimized_geometries_nuclei.npy', allow_pickle=True).tolist()"
   ]
  },
  {
   "cell_type": "code",
   "execution_count": 39,
   "id": "blocked-introduction",
   "metadata": {},
   "outputs": [
    {
     "name": "stdout",
     "output_type": "stream",
     "text": [
      "Psi4 Model initiated with method b3lyp and basis set aug-cc-pvtz\n"
     ]
    }
   ],
   "source": [
    "model = Psi4Model(method = 'b3lyp', basis = 'aug-cc-pvtz',\n",
    "                  psi4_output = '../data/psi4_output/optimizing_output.dat', cores=3, memory=4e+09)"
   ]
  },
  {
   "cell_type": "code",
   "execution_count": 58,
   "id": "finished-drilling",
   "metadata": {},
   "outputs": [],
   "source": [
    "idx = 4\n",
    "_Z = np.array(numbers[idx][np.where(numbers[idx] != 0)], dtype=int)\n",
    "_R = np.array(positions[idx])[:len(_Z)]\n",
    "energy, geometry = model.compute(_Z, _R,optimize=True)\n",
    "model.clean()\n",
    "nuclei_numbers.append(_Z)\n",
    "geometries.append(geometry)"
   ]
  },
  {
   "cell_type": "code",
   "execution_count": 57,
   "id": "inappropriate-thought",
   "metadata": {},
   "outputs": [],
   "source": [
    "idx = 120\n",
    "_Z = np.array(Z[idx][np.where(Z[idx] != 0)], dtype=int)\n",
    "_R = np.array(R[idx])[:len(_Z)]\n",
    "energy, geometry = model.compute(_Z, _R,optimize=True)\n",
    "model.clean()\n",
    "nuclei_numbers.append(_Z)\n",
    "geometries.append(geometry)"
   ]
  },
  {
   "cell_type": "code",
   "execution_count": 44,
   "id": "breeding-radiation",
   "metadata": {},
   "outputs": [],
   "source": [
    "np.save('../data/molecule_geometries/optimized_geometries', np.array(geometries))\n",
    "np.save('../data/molecule_geometries/optimized_geometries_nuclei', np.array(nuclei_numbers))"
   ]
  },
  {
   "cell_type": "code",
   "execution_count": 63,
   "id": "worthy-circle",
   "metadata": {},
   "outputs": [],
   "source": [
    "geometries = np.load('../data/molecule_geometries/optimized_geometries.npy', allow_pickle=True)\n",
    "nuclei_numbers = np.load('../data/molecule_geometries/optimized_geometries_nuclei.npy', allow_pickle=True)"
   ]
  },
  {
   "cell_type": "code",
   "execution_count": 65,
   "id": "handmade-classic",
   "metadata": {},
   "outputs": [
    {
     "data": {
      "text/plain": [
       "array([array([8, 8, 6]), array([6, 6, 1, 1, 1, 1]),\n",
       "       array([16,  6,  6,  6,  6,  1,  1,  1,  1]),\n",
       "       array([16,  8,  8,  8,  8,  1,  1])], dtype=object)"
      ]
     },
     "execution_count": 65,
     "metadata": {},
     "output_type": "execute_result"
    }
   ],
   "source": [
    "nuclei_numbers"
   ]
  },
  {
   "cell_type": "markdown",
   "id": "perfect-condition",
   "metadata": {},
   "source": [
    "## Generating the final dataset"
   ]
  },
  {
   "cell_type": "code",
   "execution_count": 2,
   "id": "binary-worcester",
   "metadata": {},
   "outputs": [],
   "source": [
    "dataset_idxs = np.full((500),-1, dtype=int)\n",
    "for i in range(500):\n",
    "    randint = random.randint(0,7164)\n",
    "    while randint in dataset_idxs:\n",
    "        randint = random.randint(0,7164)\n",
    "    dataset_idxs[i] = randint\n",
    "dataset_idxs = np.sort(dataset_idxs)"
   ]
  },
  {
   "cell_type": "code",
   "execution_count": 6,
   "id": "enabling-template",
   "metadata": {},
   "outputs": [],
   "source": [
    "Z_dataset = Z[dataset_idxs]\n",
    "R_dataset = R[dataset_idxs]"
   ]
  },
  {
   "cell_type": "code",
   "execution_count": 7,
   "id": "virgin-pattern",
   "metadata": {},
   "outputs": [
    {
     "data": {
      "text/plain": [
       "(500, 23)"
      ]
     },
     "execution_count": 7,
     "metadata": {},
     "output_type": "execute_result"
    }
   ],
   "source": [
    "np.shape(Z_dataset)"
   ]
  },
  {
   "cell_type": "code",
   "execution_count": 8,
   "id": "buried-guatemala",
   "metadata": {},
   "outputs": [
    {
     "data": {
      "text/plain": [
       "(500, 23, 3)"
      ]
     },
     "execution_count": 8,
     "metadata": {},
     "output_type": "execute_result"
    }
   ],
   "source": [
    "np.shape(R_dataset)"
   ]
  },
  {
   "cell_type": "code",
   "execution_count": 16,
   "id": "motivated-papua",
   "metadata": {},
   "outputs": [],
   "source": [
    "np.save('../data/molecule_geometries/benchmarking_dataset_R', R_dataset)\n",
    "np.save('../data/molecule_geometries/benchmarking_dataset_Z', Z_dataset)\n",
    "np.save('../data/molecule_geometries/benchmark_idxs', dataset_idxs)"
   ]
  }
 ],
 "metadata": {
  "kernelspec": {
   "display_name": "Python 3",
   "language": "python",
   "name": "python3"
  },
  "language_info": {
   "codemirror_mode": {
    "name": "ipython",
    "version": 3
   },
   "file_extension": ".py",
   "mimetype": "text/x-python",
   "name": "python",
   "nbconvert_exporter": "python",
   "pygments_lexer": "ipython3",
   "version": "3.7.9"
  }
 },
 "nbformat": 4,
 "nbformat_minor": 5
}
