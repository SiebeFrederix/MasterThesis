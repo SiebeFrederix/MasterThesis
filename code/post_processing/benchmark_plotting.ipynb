{
 "cells": [
  {
   "cell_type": "code",
   "execution_count": 1,
   "id": "signed-cleaner",
   "metadata": {
    "tags": []
   },
   "outputs": [],
   "source": [
    "import numpy as np\n",
    "import scipy.linalg\n",
    "from scipy.stats import ortho_group\n",
    "from scipy.io import loadmat\n",
    "from localizer import Localizer\n",
    "import psi4\n",
    "import json\n",
    "\n",
    "#https://github.com/molmod/molmod\n",
    "from molmod.units import angstrom, debye\n",
    "\n",
    "import matplotlib.pyplot as plt\n",
    "\n",
    "#importing the QM7 database\n",
    "# data = dict(loadmat('../molecule_geometries/qm7.mat'))\n",
    "# Z = data['Z'] # numbers\n",
    "# R = data['R']/angstrom # positions in angstrom\n",
    "\n",
    "#importing the centered QM7 database\n",
    "# Z = np.load('../data/molecule_geometries/qm7_Z.npy')\n",
    "# R = np.load('../data/molecule_geometries/qm7_R_centered.npy')\n",
    "\n",
    "#final dataset\n",
    "Z = np.load('../data/molecule_geometries/benchmarking_dataset_Z.npy')\n",
    "R = np.load('../data/molecule_geometries/benchmarking_dataset_R.npy')\n",
    "qm7_idxs = np.load('../data/molecule_geometries/benchmark_idxs.npy')\n",
    "\n",
    "# Molecule order: H2O,CO2,HCN,Acetonitrile,H2SO4,Benzene,Diborane\n",
    "numbers = np.load('../data/molecule_geometries/nuclei_numbers.npy')\n",
    "positions = np.load('../data/molecule_geometries/positions.npy')"
   ]
  },
  {
   "cell_type": "code",
   "execution_count": 2,
   "id": "chubby-bowling",
   "metadata": {},
   "outputs": [],
   "source": [
    "with open('../data/benchmarking/hpc_run3/V5/V5_sweep_0_500.json', 'r') as read_file:\n",
    "    data = json.load(read_file)\n",
    "# print(data[52])"
   ]
  },
  {
   "cell_type": "code",
   "execution_count": 23,
   "id": "detailed-celtic",
   "metadata": {},
   "outputs": [],
   "source": [
    "with open('../data/benchmarking/hpc_run3/V2/V2_sweep_0_500.json', 'r') as read_file:\n",
    "    data = json.load(read_file)\n",
    "# print(data[52])"
   ]
  },
  {
   "cell_type": "code",
   "execution_count": 13,
   "id": "checked-shift",
   "metadata": {},
   "outputs": [],
   "source": [
    "with open('../data/benchmarking/hpc_run2/PM/PM_0_500.json', 'r') as read_file:\n",
    "    data = json.load(read_file)\n",
    "# print(data[52])"
   ]
  },
  {
   "cell_type": "code",
   "execution_count": 20,
   "id": "experimental-butterfly",
   "metadata": {},
   "outputs": [],
   "source": [
    "with open('../data/benchmarking/hpc_run2/FB/FB_0_500.json', 'r') as read_file:\n",
    "    data = json.load(read_file)\n",
    "# print(data[52])"
   ]
  },
  {
   "cell_type": "code",
   "execution_count": 25,
   "id": "friendly-restoration",
   "metadata": {},
   "outputs": [],
   "source": [
    "with open('../data/benchmarking/hpc_run2/ER/ER_0_10.json', 'r') as read_file:\n",
    "    data = json.load(read_file)\n",
    "# print(data[52])"
   ]
  },
  {
   "cell_type": "code",
   "execution_count": 6,
   "id": "separate-practice",
   "metadata": {},
   "outputs": [],
   "source": [
    "with open('../data/benchmarking/hpc_run2/V4/V4_0_500_full.json', 'r') as read_file:\n",
    "    data = json.load(read_file)\n",
    "# print(data[52])"
   ]
  },
  {
   "cell_type": "code",
   "execution_count": 41,
   "id": "female-lawyer",
   "metadata": {},
   "outputs": [
    {
     "name": "stdout",
     "output_type": "stream",
     "text": [
      "31\n",
      "76\n"
     ]
    }
   ],
   "source": [
    "for i in range(1,501):\n",
    "    if -data[i]['ValueCostV4'] > 1e-02:\n",
    "        print(i-1)"
   ]
  },
  {
   "cell_type": "code",
   "execution_count": 52,
   "id": "later-tuition",
   "metadata": {},
   "outputs": [],
   "source": [
    "conv = []\n",
    "for i in range(1,501):\n",
    "    sweep_dict = data[i]['SweepDict']\n",
    "    conv_idxs = np.where(np.array(sweep_dict['OptimizerConv']) > 0)\n",
    "    opt = np.array(sweep_dict['OptimizerConv'])[conv_idxs]\n",
    "    if opt[-1] > 1e+05:\n",
    "        conv.append(i)"
   ]
  },
  {
   "cell_type": "code",
   "execution_count": 52,
   "id": "invalid-resident",
   "metadata": {},
   "outputs": [],
   "source": [
    "quad = np.zeros((500,3,3))\n",
    "quad_loc = np.zeros((500,3,3))\n",
    "for i in range(1,501):\n",
    "    sweep_dict = data[i]['SweepDict']\n",
    "    conv_idxs = np.where(np.array(sweep_dict['OptimizerConv']) > 0)\n",
    "    final_it_idx = conv_idxs[-1]\n",
    "    quad[i-1] = np.array(data[i]['QuadTotal'])\n",
    "    quad_loc[i-1] = np.array(data[i]['QuadLocal'])"
   ]
  },
  {
   "cell_type": "code",
   "execution_count": 34,
   "id": "anonymous-promise",
   "metadata": {},
   "outputs": [],
   "source": [
    "with open('../data/benchmarking/hpc_run2/PM/PM_0_500.json', 'r') as read_file:\n",
    "    data = json.load(read_file)\n",
    "# print(data[52])"
   ]
  },
  {
   "cell_type": "code",
   "execution_count": null,
   "id": "understanding-township",
   "metadata": {
    "scrolled": true,
    "tags": []
   },
   "outputs": [],
   "source": [
    "conv = []\n",
    "for i in range(1,301):\n",
    "    conv.append(data[i]['Convergence'])\n",
    "    if conv[i-1] == False:\n",
    "        print('No convergence for molecule: ' + str(i))"
   ]
  },
  {
   "cell_type": "code",
   "execution_count": 21,
   "id": "reported-popularity",
   "metadata": {},
   "outputs": [
    {
     "data": {
      "image/png": "[encoded data removed]",
      "text/plain": [
       "<Figure size 338.4x288 with 1 Axes>"
      ]
     },
     "metadata": {
      "needs_background": "light"
     },
     "output_type": "display_data"
    }
   ],
   "source": [
    "quad = np.zeros((500,3,3))\n",
    "quad_loc = np.zeros((500,3,3))\n",
    "for i in range(1,501):\n",
    "    quad[i-1] = np.array(data[i]['QuadTotal'])\n",
    "    quad_loc[i-1] = np.array(data[i]['QuadLocal'])\n",
    "\n",
    "diag = np.array([])\n",
    "off_diag = np.array([])\n",
    "for comp in quad:\n",
    "    diag = np.append(diag, comp[[0,1,2],[0,1,2]])\n",
    "    off_diag = np.append(off_diag, comp[[0,0,1],[1,2,2]])\n",
    "\n",
    "diag_loc = np.array([])\n",
    "off_diag_loc = np.array([])\n",
    "for comp in quad_loc:\n",
    "    diag_loc = np.append(diag_loc, comp[[0,1,2],[0,1,2]])\n",
    "    off_diag_loc = np.append(off_diag_loc, comp[[0,0,1],[1,2,2]])\n",
    "\n",
    "diag_diff = diag - diag_loc\n",
    "off_diff = off_diag - off_diag_loc\n",
    "\n",
    "diag_mdev = np.mean(np.abs(diag_diff))\n",
    "off_mdev = np.mean(np.abs(off_diff))\n",
    "\n",
    "fig, (ax1) = plt.subplots(1,1,figsize=(4.7,4))\n",
    "# fig.suptitle('Mean Dev=' + str(mdev)[0:4] +' 1/cm ' + 'RMSD = ' + str(rmsd)[0:5] + ' 1/cm')\n",
    "x = np.linspace(-5.2,5.2,len(diag))\n",
    "ax1.plot(x,x, 'k--')\n",
    "ax1.scatter(diag, diag_loc,\n",
    "            c='C3', marker='o', label='diagonal')\n",
    "ax1.scatter(off_diag, off_diag_loc,\n",
    "            marker='o', label='off-diagonal')\n",
    "ax1.set_xlabel('quadrupole component ($e\\AA^2$)', fontsize=13)\n",
    "ax1.set_ylabel('AEP quadrupole component ($e\\AA^2$)', fontsize=13)\n",
    "ax1.set_ylim(-5.2,5.2)\n",
    "ax1.set_xlim(-5.2,5.2)\n",
    "ax1.set_title('MAD: ' + str(diag_mdev)[:7] + ' (diagonal), ' +\n",
    "              str(off_mdev)[:7] + ' (off-diag)')\n",
    "ax1.legend(loc='lower right', fontsize=13)\n",
    "fig.tight_layout()\n",
    "# plt.savefig('../data/figures/plots/hpc_run2/FB_quadrupole_0_500', dpi=350)"
   ]
  },
  {
   "cell_type": "code",
   "execution_count": 18,
   "id": "saving-helping",
   "metadata": {},
   "outputs": [
    {
     "data": {
      "image/png": "[encoded data removed]",
      "text/plain": [
       "<Figure size 338.4x288 with 1 Axes>"
      ]
     },
     "metadata": {
      "needs_background": "light"
     },
     "output_type": "display_data"
    }
   ],
   "source": [
    "quad = np.zeros((11,3,3))\n",
    "quad_loc = np.zeros((11,3,3))\n",
    "for i in range(1,12):\n",
    "    quad[i-1] = np.array(data[i]['QuadTotal'])\n",
    "    quad_loc[i-1] = np.array(data[i]['QuadLocal'])\n",
    "\n",
    "diag = np.array([])\n",
    "off_diag = np.array([])\n",
    "for comp in quad:\n",
    "    diag = np.append(diag, comp[[0,1,2],[0,1,2]])\n",
    "    off_diag = np.append(off_diag, comp[[0,0,1],[1,2,2]])\n",
    "\n",
    "diag_loc = np.array([])\n",
    "off_diag_loc = np.array([])\n",
    "for comp in quad_loc:\n",
    "    diag_loc = np.append(diag_loc, comp[[0,1,2],[0,1,2]])\n",
    "    off_diag_loc = np.append(off_diag_loc, comp[[0,0,1],[1,2,2]])\n",
    "\n",
    "diag_diff = diag - diag_loc\n",
    "off_diff = off_diag - off_diag_loc\n",
    "\n",
    "diag_mdev = np.mean(np.abs(diag_diff))\n",
    "off_mdev = np.mean(np.abs(off_diff))\n",
    "mdev = (diag_mdev + off_mdev)/2.\n",
    "\n",
    "fig, (ax1) = plt.subplots(1,1,figsize=(4.7,4))\n",
    "# fig.suptitle('Mean Dev=' + str(mdev)[0:4] +' 1/cm ' + 'RMSD = ' + str(rmsd)[0:5] + ' 1/cm')\n",
    "x = np.linspace(-2,2,len(diag))\n",
    "ax1.plot(x,x, 'k--')\n",
    "ax1.scatter(diag, diag_loc,\n",
    "            c='C3', marker='o', label='diagonal')\n",
    "ax1.scatter(off_diag, off_diag_loc,\n",
    "            marker='o', label='off-diagonal')\n",
    "ax1.set_xlabel('quadrupole component ($e\\AA^2$)', fontsize=13)\n",
    "ax1.set_ylabel('AEP quadrupole component ($e\\AA^2$)', fontsize=13)\n",
    "ax1.set_ylim(-2,2)\n",
    "ax1.set_xlim(-2,2)\n",
    "ax1.set_title('MAD: ' + str(diag_mdev)[:7] + ' (diagonal), ' +\n",
    "              str(off_mdev)[:7] + ' (off-diag)')\n",
    "ax1.legend(loc='lower right')\n",
    "fig.tight_layout()\n",
    "# plt.savefig('../data/figures/plots/hpc_run2/PM_quadrupole_0_10', dpi=350)"
   ]
  },
  {
   "cell_type": "code",
   "execution_count": 26,
   "id": "assigned-visitor",
   "metadata": {},
   "outputs": [
    {
     "data": {
      "image/png": "[encoded data removed]",
      "text/plain": [
       "<Figure size 288x252 with 1 Axes>"
      ]
     },
     "metadata": {
      "needs_background": "light"
     },
     "output_type": "display_data"
    }
   ],
   "source": [
    "quad = np.zeros((11,3,3))\n",
    "quad_loc = np.zeros((11,3,3))\n",
    "for i in range(1,12):\n",
    "    quad[i-1] = np.array(data[i]['QuadTotal'])\n",
    "    quad_loc[i-1] = np.array(data[i]['QuadLocal'])\n",
    "\n",
    "diag = np.array([])\n",
    "off_diag = np.array([])\n",
    "for comp in quad:\n",
    "    diag = np.append(diag, comp[[0,1,2],[0,1,2]])\n",
    "    off_diag = np.append(off_diag, comp[[0,0,1],[1,2,2]])\n",
    "\n",
    "diag_loc = np.array([])\n",
    "off_diag_loc = np.array([])\n",
    "for comp in quad_loc:\n",
    "    diag_loc = np.append(diag_loc, comp[[0,1,2],[0,1,2]])\n",
    "    off_diag_loc = np.append(off_diag_loc, comp[[0,0,1],[1,2,2]])\n",
    "\n",
    "diag_diff = diag - diag_loc\n",
    "off_diff = off_diag - off_diag_loc\n",
    "\n",
    "diag_mdev = np.mean(np.abs(diag_diff))\n",
    "off_mdev = np.mean(np.abs(off_diff))\n",
    "mdev = (diag_mdev + off_mdev)/2.\n",
    "\n",
    "fig, (ax1) = plt.subplots(1,1,figsize=(4,3.5))\n",
    "# fig.suptitle('Mean Dev=' + str(mdev)[0:4] +' 1/cm ' + 'RMSD = ' + str(rmsd)[0:5] + ' 1/cm')\n",
    "x = np.linspace(-2,2,len(diag))\n",
    "ax1.plot(x,x, 'k--')\n",
    "ax1.scatter(diag, diag_loc,\n",
    "            c='C0', marker='o', label='diagonal')\n",
    "ax1.scatter(off_diag, off_diag_loc,\n",
    "            c='C0',marker='o', label='off-diagonal')\n",
    "ax1.set_xlabel('quadrupole component ($e\\AA^2$)', fontsize=13)\n",
    "ax1.set_ylabel('AEP quadrupole component ($e\\AA^2$)', fontsize=13)\n",
    "ax1.set_ylim(-2,2)\n",
    "ax1.set_xlim(-2,2)\n",
    "# ax1.set_title('MAD: ' + str(diag_mdev)[:7] + ' (diagonal), ' +\n",
    "#               str(off_mdev)[:7] + ' (off-diag)')\n",
    "ax1.set_title('MAD: ' + str(mdev)[:7] + ' $(e\\AA^2)$')\n",
    "# ax1.legend(loc='lower right')\n",
    "fig.tight_layout()\n",
    "# plt.savefig('../data/figures/plots/hpc_run2/ER_quadrupole_0_10_mad', dpi=350)"
   ]
  },
  {
   "cell_type": "code",
   "execution_count": 24,
   "id": "sublime-charter",
   "metadata": {},
   "outputs": [
    {
     "data": {
      "image/png": "[encoded data removed]",
      "text/plain": [
       "<Figure size 338.4x288 with 1 Axes>"
      ]
     },
     "metadata": {
      "needs_background": "light"
     },
     "output_type": "display_data"
    }
   ],
   "source": [
    "quad = np.zeros((500,3,3))\n",
    "quad_loc = np.zeros((500,3,3))\n",
    "for i in range(1,501):\n",
    "    quad[i-1] = np.array(data[i]['FinalQuadTotal'])\n",
    "    quad_loc[i-1] = np.array(data[i]['FinalQuadLocal'])\n",
    "\n",
    "diag = np.array([])\n",
    "off_diag = np.array([])\n",
    "for comp in quad:\n",
    "    diag = np.append(diag, comp[[0,1,2],[0,1,2]])\n",
    "    off_diag = np.append(off_diag, comp[[0,0,1],[1,2,2]])\n",
    "\n",
    "diag_loc = np.array([])\n",
    "off_diag_loc = np.array([])\n",
    "for comp in quad_loc:\n",
    "    diag_loc = np.append(diag_loc, comp[[0,1,2],[0,1,2]])\n",
    "    off_diag_loc = np.append(off_diag_loc, comp[[0,0,1],[1,2,2]])\n",
    "\n",
    "diag_diff = diag - diag_loc\n",
    "off_diff = off_diag - off_diag_loc\n",
    "\n",
    "diag_mdev = np.mean(np.abs(diag_diff))\n",
    "off_mdev = np.mean(np.abs(off_diff))\n",
    "\n",
    "fig, (ax1) = plt.subplots(1,1,figsize=(4.7,4))\n",
    "# fig.suptitle('Mean Dev=' + str(mdev)[0:4] +' 1/cm ' + 'RMSD = ' + str(rmsd)[0:5] + ' 1/cm')\n",
    "x = np.linspace(-5.2,5.2,len(diag))\n",
    "ax1.plot(x,x, 'k--')\n",
    "ax1.scatter(diag, diag_loc,\n",
    "            c='C3', marker='o', label='diagonal')\n",
    "ax1.scatter(off_diag, off_diag_loc,\n",
    "            marker='o', label='off-diagonal')\n",
    "ax1.set_xlabel('quadrupole component ($e\\AA^2$)', fontsize=13)\n",
    "ax1.set_ylabel('AEP quadrupole component ($e\\AA^2$)', fontsize=13)\n",
    "ax1.set_ylim(-5.2,5.2)\n",
    "ax1.set_xlim(-5.2,5.2)\n",
    "ax1.set_title('MAD: ' + str(diag_mdev)[:7] + ' (diagonal), ' +\n",
    "              str(off_mdev)[:7] + ' (off-diag)')\n",
    "ax1.legend(loc='lower right',fontsize=13)\n",
    "fig.tight_layout()\n",
    "# plt.savefig('../data/figures/plots/hpc_run2/V2_quadrupole_0_500', dpi=350)"
   ]
  },
  {
   "cell_type": "markdown",
   "id": "undefined-puppy",
   "metadata": {},
   "source": [
    "## Finding optimal weight factors"
   ]
  },
  {
   "cell_type": "code",
   "execution_count": 15,
   "id": "boxed-booking",
   "metadata": {},
   "outputs": [],
   "source": [
    "opt_weight = []\n",
    "for i in range(1,501):\n",
    "    nonzero_idx = np.where(np.array(data[i]['SweepDict']['RootMeanDisplacement']) > 0.)[-1][-1]\n",
    "    opt_weight.append(data[i]['SweepDict']['PenaltyVals'][nonzero_idx])\n",
    "# print(opt_weight)\n",
    "\n",
    "np.save('../data/benchmarking/hpc_run3/V5/opt_weights', np.array(opt_weight))"
   ]
  },
  {
   "cell_type": "markdown",
   "id": "minimal-enzyme",
   "metadata": {},
   "source": [
    "## Histogram plot"
   ]
  },
  {
   "cell_type": "code",
   "execution_count": null,
   "id": "incorrect-forward",
   "metadata": {},
   "outputs": [],
   "source": [
    "data[1]"
   ]
  },
  {
   "cell_type": "code",
   "execution_count": 9,
   "id": "significant-senator",
   "metadata": {},
   "outputs": [],
   "source": [
    "diff_costv4 = []\n",
    "fb_costv4 = []\n",
    "v2_costv4 = []\n",
    "for i in range(1,501):\n",
    "    nonzero_idx = np.where(np.array(data[i]['SweepDict']['RootMeanDisplacement']) > 0.)[-1][-1]\n",
    "    diff_costv4.append(data[i]['SweepDict']['V4CostVals'][nonzero_idx]-\n",
    "                       data[i]['SweepDict']['V4CostVals'][0])\n",
    "    fb_costv4.append(-data[i]['SweepDict']['V4CostVals'][0])\n",
    "    v2_costv4.append(-data[i]['SweepDict']['V4CostVals'][nonzero_idx])\n",
    "diff_costv4 = np.array(diff_costv4)\n",
    "fb_costv4 = np.array(fb_costv4)\n",
    "v2_costv4 = np.array(v2_costv4)"
   ]
  },
  {
   "cell_type": "code",
   "execution_count": 10,
   "id": "growing-surname",
   "metadata": {},
   "outputs": [
    {
     "data": {
      "text/plain": [
       "(1, 193)"
      ]
     },
     "execution_count": 10,
     "metadata": {},
     "output_type": "execute_result"
    }
   ],
   "source": [
    "np.shape(np.where(np.array(diff_costv4)<0.))"
   ]
  },
  {
   "cell_type": "code",
   "execution_count": 54,
   "id": "israeli-platform",
   "metadata": {},
   "outputs": [
    {
     "data": {
      "text/plain": [
       "(1, 307)"
      ]
     },
     "execution_count": 54,
     "metadata": {},
     "output_type": "execute_result"
    }
   ],
   "source": [
    "np.shape(np.where(np.array(diff_costv4)>0.))"
   ]
  },
  {
   "cell_type": "code",
   "execution_count": 75,
   "id": "sticky-honor",
   "metadata": {},
   "outputs": [
    {
     "data": {
      "text/plain": [
       "0.03168169919566831"
      ]
     },
     "execution_count": 75,
     "metadata": {},
     "output_type": "execute_result"
    }
   ],
   "source": [
    "np.mean(np.array(diff_costv4))"
   ]
  },
  {
   "cell_type": "code",
   "execution_count": 152,
   "id": "intermediate-screening",
   "metadata": {},
   "outputs": [
    {
     "data": {
      "text/plain": [
       "0.614"
      ]
     },
     "execution_count": 152,
     "metadata": {},
     "output_type": "execute_result"
    }
   ],
   "source": [
    "307/500"
   ]
  },
  {
   "cell_type": "code",
   "execution_count": 76,
   "id": "genetic-wright",
   "metadata": {},
   "outputs": [
    {
     "data": {
      "text/plain": [
       "0.14991444151120112"
      ]
     },
     "execution_count": 76,
     "metadata": {},
     "output_type": "execute_result"
    }
   ],
   "source": [
    "np.std(np.array(diff_costv4))"
   ]
  },
  {
   "cell_type": "code",
   "execution_count": 11,
   "id": "spanish-software",
   "metadata": {},
   "outputs": [
    {
     "data": {
      "image/png": "[encoded data removed]",
      "text/plain": [
       "<Figure size 338.4x288 with 1 Axes>"
      ]
     },
     "metadata": {
      "needs_background": "light"
     },
     "output_type": "display_data"
    }
   ],
   "source": [
    "pos_idx = np.where(diff_costv4 > 0.)\n",
    "neg_idx = np.where(diff_costv4 < 0.)\n",
    "fig, (ax) = plt.subplots(1,1,figsize=(4.7,4))\n",
    "trash = ax.hist(diff_costv4[pos_idx], bins=38, color='g', label=r'$\\Delta\\mathcal{P}^{QD}$>0 (61.4%)')\n",
    "trash = ax.hist(diff_costv4[neg_idx], bins=12, label=r'$\\Delta\\mathcal{P}^{QD}$<0 (38.6%)')\n",
    "# ax.text(.6,.6,r'#$\\Delta\\mathcal{P}^{QD}(\\mathbf{W})$', transform=ax.transAxes, size=15)\n",
    "ax.set_xlabel(r'$\\Delta\\mathcal{P}^{QD}$',fontsize=13)\n",
    "ax.legend(fontsize=13)\n",
    "fig.tight_layout()\n",
    "plt.savefig('../data/figures/plots/hpc_run2/V2_histogram', dpi=350)"
   ]
  },
  {
   "cell_type": "code",
   "execution_count": 43,
   "id": "protecting-decade",
   "metadata": {},
   "outputs": [
    {
     "data": {
      "image/png": "[encoded data removed]",
      "text/plain": [
       "<Figure size 338.4x288 with 2 Axes>"
      ]
     },
     "metadata": {
      "needs_background": "light"
     },
     "output_type": "display_data"
    }
   ],
   "source": [
    "fig, (ax1,ax2) = plt.subplots(2,1,figsize=(4.7,4))\n",
    "# plt.hist(diff_costv4, bins=50)\n",
    "trash = ax1.hist(v2_costv4, bins=50)\n",
    "trash = ax2.hist(fb_costv4, bins=50)"
   ]
  },
  {
   "cell_type": "markdown",
   "id": "precious-volunteer",
   "metadata": {},
   "source": [
    "## Parameter sweep plot"
   ]
  },
  {
   "cell_type": "code",
   "execution_count": null,
   "id": "romantic-brother",
   "metadata": {},
   "outputs": [],
   "source": [
    "data[20]"
   ]
  },
  {
   "cell_type": "code",
   "execution_count": 148,
   "id": "western-intervention",
   "metadata": {},
   "outputs": [
    {
     "data": {
      "text/plain": [
       "0.142525"
      ]
     },
     "execution_count": 148,
     "metadata": {},
     "output_type": "execute_result"
    }
   ],
   "source": [
    "(0.18637 + 0.09868)/2."
   ]
  },
  {
   "cell_type": "code",
   "execution_count": 149,
   "id": "present-probability",
   "metadata": {},
   "outputs": [
    {
     "data": {
      "text/plain": [
       "0.1446"
      ]
     },
     "execution_count": 149,
     "metadata": {},
     "output_type": "execute_result"
    }
   ],
   "source": [
    "(.18875+.10045)/2."
   ]
  },
  {
   "cell_type": "code",
   "execution_count": 4,
   "id": "artificial-cleanup",
   "metadata": {},
   "outputs": [
    {
     "data": {
      "image/png": "[encoded data removed]",
      "text/plain": [
       "<Figure size 381.6x273.6 with 2 Axes>"
      ]
     },
     "metadata": {
      "needs_background": "light"
     },
     "output_type": "display_data"
    }
   ],
   "source": [
    "idx = 6\n",
    "nonzero_idxs = np.where(np.array(data[idx]['SweepDict']['V4CostVals']) < 0.)\n",
    "penalty = np.array(data[idx]['SweepDict']['PenaltyVals'])[nonzero_idxs]\n",
    "cost_vals = -np.array(data[idx]['SweepDict']['V4CostVals'])[nonzero_idxs]\n",
    "dist_rmd = np.array(data[idx]['SweepDict']['RootMeanDisplacement'])[nonzero_idxs]\n",
    "\n",
    "fig, (ax1) = plt.subplots(1,1,figsize=(5.3,3.8))\n",
    "\n",
    "lns1 = ax1.plot(penalty, cost_vals,c='k', label=r'$\\mathcal{P}^{QD}(\\mathbf{W})$')\n",
    "ax1.set_ylabel(r'$\\mathcal{P}^{QD}(\\mathbf{W})$',fontsize=13)\n",
    "ax1.set_xlabel('$\\lambda$', fontsize=13)\n",
    "# ax1.tick_params(axis='y', color='C0')\n",
    "# ax1.set_yscale('log')\n",
    "\n",
    "ax2 = ax1.twinx()\n",
    "lns2 = ax2.plot(penalty,dist_rmd, c='C3', label='RMD')\n",
    "ax2.set_ylabel('RMSD ($\\AA$)', fontsize=13, color='C3')\n",
    "ax2.set_ylim(0)\n",
    "\n",
    "# leg = lns1 + lns2\n",
    "# labs = [l.get_label() for l in leg]\n",
    "# leg = ax2.legend(leg, labs, bbox_to_anchor=(0.5, 0., 0.5, 0.5), fontsize=13)\n",
    "\n",
    "fig.tight_layout()\n",
    "# plt.savefig('../data/figures/plots/hpc_run2/V5_sweep_idx_' + str(idx), dpi=350)"
   ]
  },
  {
   "cell_type": "markdown",
   "id": "endless-leader",
   "metadata": {},
   "source": [
    "## Glueing jsons together"
   ]
  },
  {
   "cell_type": "code",
   "execution_count": 8,
   "id": "consolidated-aquarium",
   "metadata": {},
   "outputs": [],
   "source": [
    "data = data1\n",
    "for i in range(1,151):\n",
    "    data.append(data2[i])\n",
    "for i in range(1,151):\n",
    "    data.append(data3[i])\n",
    "\n",
    "with open('../data/benchmarking/hpc_run3/V2/V2_sweep_0_500.json', 'w') as fout:\n",
    "    json.dump(data, fout)\n",
    "fout.close()"
   ]
  },
  {
   "cell_type": "code",
   "execution_count": 13,
   "id": "laughing-vietnam",
   "metadata": {},
   "outputs": [],
   "source": [
    "data = data1\n",
    "for i in range(1,5):\n",
    "    data.append(data2[i])\n",
    "\n",
    "with open('../data/benchmarking/hpc_run2/ER/ER_0_10.json', 'w') as fout:\n",
    "    json.dump(data, fout)\n",
    "fout.close()"
   ]
  },
  {
   "cell_type": "markdown",
   "id": "assisted-asset",
   "metadata": {},
   "source": [
    "## Fixing missing entries"
   ]
  },
  {
   "cell_type": "code",
   "execution_count": 27,
   "id": "curious-lawsuit",
   "metadata": {},
   "outputs": [],
   "source": [
    "missing_idx = []\n",
    "for i in range(1,501):\n",
    "    if not data[i]['Convergence']:\n",
    "        print(i-1)\n",
    "        missing_idx.append(i-1)\n",
    "\n",
    "for idx in missing_idx:\n",
    "    loc = Localizer(Z[idx], R[idx], index=qm7_idxs[idx], lot='scf',\n",
    "                    check_import=True, cores=4, memory=6e+09, basisset='aug-cc-pvtz')\n",
    "    loc.set_scheme('V4')\n",
    "    conv = loc.optimize_line_search(nsteps=500, psi4_guess=False)\n",
    "    \n",
    "    if conv:\n",
    "        output_dict = {'Convergence' : conv,\n",
    "                       'QuadCompare' : loc.compare_quadrupole().tolist(),\n",
    "                       'QuadTotal' : loc.total_quadrupole.tolist(),\n",
    "                       'QuadLocal' : loc.total_loc_quadrupole.tolist(),\n",
    "                       'ValueCostV4' : float(loc.V4_cost(loc.W))}\n",
    "        loc.write_centers(folder= '../data/xyz_files/hpc_run2/')\n",
    "\n",
    "        data[idx+1] = output_dict\n",
    "\n",
    "with open('../data/benchmarking/hpc_run2/V4/V4_0_500_full.json', 'w') as fout:\n",
    "    json.dump(data, fout)\n",
    "fout.close()"
   ]
  },
  {
   "cell_type": "markdown",
   "id": "damaged-cincinnati",
   "metadata": {},
   "source": [
    "## Generate ER data"
   ]
  },
  {
   "cell_type": "code",
   "execution_count": 2,
   "id": "political-disco",
   "metadata": {},
   "outputs": [],
   "source": [
    "with open('../data/benchmarking/hpc_run2/ER/ER_0_2.json', 'r') as read_file:\n",
    "    output_list = json.load(read_file)\n",
    "# print(data[52])"
   ]
  },
  {
   "cell_type": "code",
   "execution_count": 2,
   "id": "republican-thompson",
   "metadata": {},
   "outputs": [],
   "source": [
    "output_list = [{'BasisSet' : '6-311ppg_d_p_',\n",
    "                'LevelOfTheory' : 'scf',\n",
    "                'Scheme' : 'ER',\n",
    "                'Penalty' : 0.,\n",
    "                'StartIndex' : 0,\n",
    "                'StopIndex' : 7,\n",
    "                'Cores' : 4,\n",
    "                'Memory' : 7.}]"
   ]
  },
  {
   "cell_type": "code",
   "execution_count": null,
   "id": "lasting-phoenix",
   "metadata": {},
   "outputs": [
    {
     "name": "stdout",
     "output_type": "stream",
     "text": [
      "generating data for: 0029_NC3H9\n",
      "Psi4 Model initiated with method scf and basis set 6-311ppg_d_p_\n",
      "writing out psi4 data for molecule: 0029_NC3H9\n"
     ]
    }
   ],
   "source": [
    "idx = 1\n",
    "loc = Localizer(Z[idx], R[idx], index=qm7_idxs[idx], lot='scf',\n",
    "                check_import=False, cores=4, memory=7e+09)\n",
    "loc.set_scheme('ER')\n",
    "conv = loc.optimize_line_search(nsteps=500, psi4_guess=False)\n",
    "\n",
    "if conv:\n",
    "    output_dict = {'Convergence' : conv,\n",
    "                   'QuadCompare' : loc.compare_quadrupole().tolist(),\n",
    "                   'QuadTotal' : loc.total_quadrupole.tolist(),\n",
    "                   'QuadLocal' : loc.total_loc_quadrupole.tolist(),\n",
    "                   'ValueCostV4' : float(loc.V4_cost(loc.W))}\n",
    "    loc.write_centers(folder= '../data/xyz_files/hpc_run2/')\n",
    "\n",
    "    output_list.append(output_dict)\n",
    "loc.model.clean()"
   ]
  },
  {
   "cell_type": "code",
   "execution_count": 5,
   "id": "outstanding-clark",
   "metadata": {},
   "outputs": [],
   "source": [
    "with open('../data/benchmarking/hpc_run2/ER/ER_0_2.json', 'w') as fout:\n",
    "    json.dump(output_list, fout)\n",
    "fout.close()"
   ]
  }
 ],
 "metadata": {
  "kernelspec": {
   "display_name": "Python 3",
   "language": "python",
   "name": "python3"
  },
  "language_info": {
   "codemirror_mode": {
    "name": "ipython",
    "version": 3
   },
   "file_extension": ".py",
   "mimetype": "text/x-python",
   "name": "python",
   "nbconvert_exporter": "python",
   "pygments_lexer": "ipython3",
   "version": "3.7.9"
  }
 },
 "nbformat": 4,
 "nbformat_minor": 5
}
