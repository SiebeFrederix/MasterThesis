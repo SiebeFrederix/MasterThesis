{
 "cells": [
  {
   "cell_type": "code",
   "execution_count": 9,
   "id": "responsible-maryland",
   "metadata": {},
   "outputs": [],
   "source": [
    "import numpy as np\n",
    "import matplotlib.pyplot as plt"
   ]
  },
  {
   "cell_type": "code",
   "execution_count": 148,
   "id": "clinical-march",
   "metadata": {
    "tags": []
   },
   "outputs": [],
   "source": [
    "def find_smallest_root(x, y, deg):\n",
    "    # calculates the polynomial coefficients, highest order first\n",
    "    coeffs = np.polyfit(x, y, deg)\n",
    "    \n",
    "    # Calculate the roots of the polynomial\n",
    "    roots = np.roots(coeffs)\n",
    "\n",
    "    #finding the smallest positive root\n",
    "    sp_root = 10\n",
    "    for root in roots:\n",
    "        if np.isreal(root):\n",
    "            if (root > 0) and (root<sp_root):\n",
    "                sp_root = root\n",
    "    \n",
    "    # If no valid root is found, the stepsize will be zero\n",
    "    if sp_root == 10:\n",
    "        print('No root found')\n",
    "        sp_root = 0.\n",
    "\n",
    "    if sp_root > x[-1]:\n",
    "        sp_root = x[np.argmin(np.abs(y))]\n",
    "    \n",
    "    return coeffs, sp_root"
   ]
  },
  {
   "cell_type": "code",
   "execution_count": 139,
   "id": "prescribed-thought",
   "metadata": {},
   "outputs": [],
   "source": [
    "def func(a,x):\n",
    "    return a[0]*x**4 + a[1]*x**3 + a[2]*x**2 + a[3]*x + a[4]"
   ]
  },
  {
   "cell_type": "code",
   "execution_count": 151,
   "id": "dressed-convertible",
   "metadata": {},
   "outputs": [
    {
     "name": "stdout",
     "output_type": "stream",
     "text": [
      "0.024168972075251597\n"
     ]
    },
    {
     "data": {
      "text/plain": [
       "[<matplotlib.lines.Line2D at 0x7fa6fc9eed90>]"
      ]
     },
     "execution_count": 151,
     "metadata": {},
     "output_type": "execute_result"
    },
    {
     "data": {
      "image/png": "[encoded data removed]",
      "text/plain": [
       "<Figure size 432x288 with 1 Axes>"
      ]
     },
     "metadata": {
      "needs_background": "light"
     },
     "output_type": "display_data"
    }
   ],
   "source": [
    "a = np.random.rand(5) - 0.5\n",
    "x = np.linspace(1.5,2.5,50)\n",
    "plt.plot(x, np.sin(x))\n",
    "a, root = find_smallest_root(x,np.sin(x),4)\n",
    "print(root)\n",
    "plt.plot(x, func(a,x))"
   ]
  }
 ],
 "metadata": {
  "kernelspec": {
   "display_name": "Python 3",
   "language": "python",
   "name": "python3"
  },
  "language_info": {
   "codemirror_mode": {
    "name": "ipython",
    "version": 3
   },
   "file_extension": ".py",
   "mimetype": "text/x-python",
   "name": "python",
   "nbconvert_exporter": "python",
   "pygments_lexer": "ipython3",
   "version": "3.7.9"
  }
 },
 "nbformat": 4,
 "nbformat_minor": 5
}
