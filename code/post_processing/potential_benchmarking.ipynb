{
 "cells": [
  {
   "cell_type": "code",
   "execution_count": 1,
   "id": "attractive-clerk",
   "metadata": {
    "tags": []
   },
   "outputs": [],
   "source": [
    "import numpy as np\n",
    "from scipy.io import loadmat\n",
    "from localizer import Localizer\n",
    "import psi4\n",
    "from iodata import load_one, dump_one\n",
    "import electrostatics as esp\n",
    "\n",
    "#https://github.com/molmod/molmod\n",
    "from molmod.units import angstrom, debye\n",
    "\n",
    "import matplotlib.pyplot as plt\n",
    "\n",
    "#importing the QM7 database\n",
    "# data = dict(loadmat('../molecule_geometries/qm7.mat'))\n",
    "# Z = data['Z'] # numbers\n",
    "# R = data['R']/angstrom # positions in angstrom\n",
    "\n",
    "#importing the centered QM7 database\n",
    "Z = np.load('../data/molecule_geometries/qm7_Z.npy')\n",
    "R = np.load('../data/molecule_geometries/qm7_R_centered.npy')\n",
    "\n",
    "# Molecule order: H2O,CO2,HCN,Acetonitrile,H2SO4,Benzene,Diborane\n",
    "numbers = np.load('../data/molecule_geometries/nuclei_numbers.npy')\n",
    "positions = np.load('../data/molecule_geometries/positions.npy')"
   ]
  },
  {
   "cell_type": "code",
   "execution_count": 24,
   "id": "superior-korea",
   "metadata": {},
   "outputs": [
    {
     "name": "stdout",
     "output_type": "stream",
     "text": [
      "generating data for: 0031_NC3H7\n",
      "Psi4 Model initiated with method scf and basis set 6-311ppg_d_p_\n",
      "writing out psi4 data for molecule: 0031_NC3H7\n"
     ]
    }
   ],
   "source": [
    "idx = 31\n",
    "loc = Localizer(Z[idx], R[idx], index=idx, check_import=False, cores=4, memory=6e+09)"
   ]
  },
  {
   "cell_type": "code",
   "execution_count": 27,
   "id": "third-cable",
   "metadata": {},
   "outputs": [],
   "source": [
    "loc.set_scheme('V5',p=5.)"
   ]
  },
  {
   "cell_type": "code",
   "execution_count": 28,
   "id": "lesbian-soldier",
   "metadata": {
    "scrolled": true,
    "tags": []
   },
   "outputs": [
    {
     "name": "stdout",
     "output_type": "stream",
     "text": [
      "Optimizing cost function: V5\n",
      "root out of range\n",
      "reset at iteration:56\n",
      "reset at iteration:57\n",
      "reset at iteration:58\n",
      "reset at iteration:59\n",
      "reset at iteration:60\n",
      "Conjugate gradient resetted 5 consecutive times: REINITIALIZING\n",
      "Optimizing cost function: V5\n",
      "reset at iteration:33\n",
      "reset at iteration:34\n",
      "reset at iteration:35\n",
      "reset at iteration:36\n",
      "reset at iteration:37\n",
      "Conjugate gradient resetted 5 consecutive times: REINITIALIZING\n",
      "Optimizing cost function: V5\n",
      "reset at iteration:30\n",
      "reset at iteration:31\n",
      "reset at iteration:32\n",
      "reset at iteration:33\n",
      "reset at iteration:34\n",
      "Conjugate gradient resetted 5 consecutive times: REINITIALIZING\n",
      "Optimizing cost function: V5\n",
      "reset at iteration:20\n",
      "reset at iteration:21\n",
      "reset at iteration:22\n",
      "reset at iteration:23\n",
      "reset at iteration:24\n",
      "Conjugate gradient resetted 5 consecutive times: REINITIALIZING\n",
      "Optimizing cost function: V5\n",
      "reset at iteration:47\n",
      "reset at iteration:48\n",
      "reset at iteration:49\n",
      "reset at iteration:50\n",
      "reset at iteration:51\n",
      "Conjugate gradient resetted 5 consecutive times: REINITIALIZING\n",
      "Optimizing cost function: V5\n",
      "reset at iteration:55\n",
      "reset at iteration:56\n",
      "reset at iteration:57\n",
      "reset at iteration:58\n",
      "reset at iteration:59\n",
      "Conjugate gradient resetted 5 consecutive times: REINITIALIZING\n",
      "Optimizing cost function: V5\n",
      "reset at iteration:53\n",
      "reset at iteration:54\n",
      "reset at iteration:55\n",
      "reset at iteration:56\n",
      "reset at iteration:57\n",
      "Conjugate gradient resetted 5 consecutive times: REINITIALIZING\n",
      "Optimizing cost function: V5\n",
      "root out of range\n",
      "reset at iteration:30\n",
      "reset at iteration:31\n",
      "reset at iteration:32\n",
      "reset at iteration:33\n",
      "reset at iteration:34\n",
      "Conjugate gradient resetted 5 consecutive times: REINITIALIZING\n",
      "Optimizing cost function: V5\n",
      "reset at iteration:22\n",
      "reset at iteration:23\n",
      "reset at iteration:24\n",
      "reset at iteration:25\n",
      "reset at iteration:26\n",
      "Conjugate gradient resetted 5 consecutive times: REINITIALIZING\n",
      "Optimizing cost function: V5\n",
      "reset at iteration:87\n",
      "reset at iteration:88\n",
      "reset at iteration:89\n",
      "reset at iteration:90\n",
      "reset at iteration:91\n",
      "Conjugate gradient resetted 5 consecutive times: REINITIALIZING\n",
      "Optimizing cost function: V5\n",
      "root out of range\n",
      "reset at iteration:74\n",
      "reset at iteration:75\n",
      "reset at iteration:76\n",
      "reset at iteration:77\n",
      "reset at iteration:78\n",
      "Conjugate gradient resetted 5 consecutive times: REINITIALIZING\n",
      "Optimizing cost function: V5\n",
      "root out of range\n",
      "reset at iteration:50\n",
      "reset at iteration:51\n",
      "reset at iteration:52\n",
      "reset at iteration:53\n",
      "reset at iteration:54\n",
      "Conjugate gradient resetted 5 consecutive times: REINITIALIZING\n",
      "Optimizing cost function: V5\n",
      "No root found\n",
      "Stepsize < 10^-10 in first iteration: REINITIALIZING\n",
      "Optimizing cost function: V5\n",
      "reset at iteration:68\n",
      "reset at iteration:69\n",
      "reset at iteration:70\n",
      "reset at iteration:71\n",
      "reset at iteration:72\n",
      "Conjugate gradient resetted 5 consecutive times: REINITIALIZING\n",
      "Optimizing cost function: V5\n",
      "root out of range\n",
      "Convergence: norm of riemann gradient below 10^-5\n"
     ]
    },
    {
     "data": {
      "text/plain": [
       "True"
      ]
     },
     "execution_count": 28,
     "metadata": {},
     "output_type": "execute_result"
    }
   ],
   "source": [
    "loc.optimize_line_search()"
   ]
  },
  {
   "cell_type": "markdown",
   "id": "fitted-leader",
   "metadata": {},
   "source": [
    "## Checking E_rmsd hyper parameters"
   ]
  },
  {
   "cell_type": "code",
   "execution_count": 26,
   "id": "weird-czech",
   "metadata": {},
   "outputs": [
    {
     "name": "stdout",
     "output_type": "stream",
     "text": [
      "generating grid\n",
      "Calculating QM ESP at the gridpoints\n",
      "Saving QM ESP\n",
      "Computing classical ESP\n",
      "Valid points: 18047\n"
     ]
    },
    {
     "data": {
      "text/plain": [
       "0.027068002568006604"
      ]
     },
     "execution_count": 26,
     "metadata": {},
     "output_type": "execute_result"
    }
   ],
   "source": [
    "loc.compute_esp_rmsd(r_max=10.0,min_points=50000)"
   ]
  },
  {
   "cell_type": "code",
   "execution_count": 29,
   "id": "consolidated-pollution",
   "metadata": {},
   "outputs": [
    {
     "name": "stdout",
     "output_type": "stream",
     "text": [
      "generating grid\n",
      "Potential data loaded\n",
      "Computing classical ESP\n",
      "Valid points: 18047\n"
     ]
    },
    {
     "data": {
      "text/plain": [
       "0.02181946715435861"
      ]
     },
     "execution_count": 29,
     "metadata": {},
     "output_type": "execute_result"
    }
   ],
   "source": [
    "loc.compute_esp_rmsd(r_max=10.0,min_points=50000)"
   ]
  },
  {
   "cell_type": "code",
   "execution_count": 23,
   "id": "present-tooth",
   "metadata": {
    "scrolled": true,
    "tags": []
   },
   "outputs": [
    {
     "name": "stdout",
     "output_type": "stream",
     "text": [
      "generating grid\n",
      "Potential data loaded\n",
      "Computing classical ESP\n",
      "Valid points: 202\n",
      "generating grid\n",
      "Potential data loaded\n",
      "Computing classical ESP\n",
      "Valid points: 490\n",
      "generating grid\n",
      "Potential data loaded\n",
      "Computing classical ESP\n",
      "Valid points: 1428\n",
      "generating grid\n",
      "Potential data loaded\n",
      "Computing classical ESP\n",
      "Valid points: 2661\n",
      "generating grid\n",
      "Potential data loaded\n",
      "Computing classical ESP\n",
      "Valid points: 5679\n",
      "generating grid\n",
      "Potential data loaded\n",
      "Computing classical ESP\n",
      "Valid points: 13490\n",
      "generating grid\n",
      "Potential data loaded\n",
      "Computing classical ESP\n",
      "Valid points: 28116\n",
      "generating grid\n",
      "Potential data loaded\n",
      "Computing classical ESP\n",
      "Valid points: 56246\n",
      "generating grid\n",
      "Potential data loaded\n",
      "Computing classical ESP\n",
      "Valid points: 142252\n"
     ]
    }
   ],
   "source": [
    "npoints1 = [1000,2000,5000,10000,20000,50000,100000,200000,500000]\n",
    "Ermsd1 = []\n",
    "valid_points = []\n",
    "for p in npoints:\n",
    "    loc.compute_esp_rmsd(min_points=p)\n",
    "    Ermsd1.append(loc.Ermsd)\n",
    "    valid_points.append(loc.esp_points)"
   ]
  },
  {
   "cell_type": "code",
   "execution_count": 25,
   "id": "electric-cabinet",
   "metadata": {},
   "outputs": [
    {
     "data": {
      "text/plain": [
       "Text(0.5, 0, 'number of included points')"
      ]
     },
     "execution_count": 25,
     "metadata": {},
     "output_type": "execute_result"
    },
    {
     "data": {
      "image/png": "[encoded data removed]",
      "text/plain": [
       "<Figure size 432x288 with 1 Axes>"
      ]
     },
     "metadata": {
      "needs_background": "light"
     },
     "output_type": "display_data"
    }
   ],
   "source": [
    "plt.plot(valid_points, Ermsd1)\n",
    "plt.plot(valid_points, Ermsd2)\n",
    "plt.xscale('log')\n",
    "plt.ylabel('$E_{rmsd}$')\n",
    "plt.xlabel('number of included points')"
   ]
  },
  {
   "cell_type": "code",
   "execution_count": 4,
   "id": "swedish-consciousness",
   "metadata": {
    "scrolled": true,
    "tags": []
   },
   "outputs": [
    {
     "name": "stdout",
     "output_type": "stream",
     "text": [
      "generating grid\n",
      "Potential data loaded\n",
      "Computing classical ESP\n",
      "Valid points: 12283\n",
      "generating grid\n",
      "Potential data loaded\n",
      "Computing classical ESP\n",
      "Valid points: 12935\n",
      "generating grid\n",
      "Potential data loaded\n",
      "Computing classical ESP\n",
      "Valid points: 13490\n",
      "generating grid\n",
      "Potential data loaded\n",
      "Computing classical ESP\n",
      "Valid points: 13934\n",
      "generating grid\n",
      "Potential data loaded\n",
      "Computing classical ESP\n",
      "Valid points: 14374\n",
      "generating grid\n",
      "Potential data loaded\n",
      "Computing classical ESP\n",
      "Valid points: 14796\n",
      "generating grid\n",
      "Potential data loaded\n",
      "Computing classical ESP\n",
      "Valid points: 15162\n",
      "generating grid\n",
      "Potential data loaded\n",
      "Computing classical ESP\n",
      "Valid points: 15491\n",
      "generating grid\n",
      "Potential data loaded\n",
      "Computing classical ESP\n",
      "Valid points: 15848\n"
     ]
    }
   ],
   "source": [
    "rmax = [6.,6.5,7.,7.5,8.,8.5,9.,9.5,10.]\n",
    "Ersd = []\n",
    "valid_points = []\n",
    "for r in rmax:\n",
    "    loc.compute_esp_rrmsd(r_max=r,min_points=50000)\n",
    "    Ersd.append(loc.Ersd)\n",
    "    valid_points.append(loc.esp_points)"
   ]
  },
  {
   "cell_type": "code",
   "execution_count": 6,
   "id": "variable-nursery",
   "metadata": {},
   "outputs": [
    {
     "data": {
      "text/plain": [
       "Text(0.5, 0, '$r_{max}$')"
      ]
     },
     "execution_count": 6,
     "metadata": {},
     "output_type": "execute_result"
    },
    {
     "data": {
      "image/png": "[encoded data removed]",
      "text/plain": [
       "<Figure size 432x288 with 1 Axes>"
      ]
     },
     "metadata": {
      "needs_background": "light"
     },
     "output_type": "display_data"
    }
   ],
   "source": [
    "plt.plot(rmax, Ersd)\n",
    "# plt.xscale('log')\n",
    "plt.ylabel('$E_{rsd}$')\n",
    "plt.xlabel('$r_{max}$')"
   ]
  },
  {
   "cell_type": "markdown",
   "id": "every-observer",
   "metadata": {},
   "source": [
    "## Centering the molecule positions"
   ]
  },
  {
   "cell_type": "code",
   "execution_count": 2,
   "id": "threaded-uncle",
   "metadata": {},
   "outputs": [],
   "source": [
    "data = dict(loadmat('../molecule_geometries/qm7.mat'))\n",
    "Z = data['Z'] # numbers\n",
    "R = data['R']/angstrom # positions in angstrom\n",
    "\n",
    "centered_R = np.zeros(np.shape(R))\n",
    "for i, pos in enumerate(R):\n",
    "    idxs = np.where(Z[i] != 0)\n",
    "    r = pos[idxs].transpose()\n",
    "    r[0] -= np.mean(r[0])\n",
    "    r[1] -= np.mean(r[1])\n",
    "    r[2] -= np.mean(r[2])\n",
    "    centered_R[i,idxs] = r.transpose()\n",
    "\n",
    "np.save('../molecule_geometries/qm7_R_centered', centered_R)\n",
    "np.save('../molecule_geometries/qm7_Z', Z)"
   ]
  },
  {
   "cell_type": "markdown",
   "id": "local-palestine",
   "metadata": {},
   "source": [
    "## Check if the grid and potential are okay"
   ]
  },
  {
   "cell_type": "code",
   "execution_count": 5,
   "id": "purple-affect",
   "metadata": {},
   "outputs": [
    {
     "name": "stdout",
     "output_type": "stream",
     "text": [
      "Imported data for: 0006_OC2H6\n"
     ]
    },
    {
     "data": {
      "application/vnd.jupyter.widget-view+json": {
       "model_id": "48918d6437074915b56c2c9b1f8f2d07",
       "version_major": 2,
       "version_minor": 0
      },
      "text/plain": [
       "Canvas(toolbar=Toolbar(toolitems=[('Home', 'Reset original view', 'home', 'home'), ('Back', 'Back to previous …"
      ]
     },
     "metadata": {},
     "output_type": "display_data"
    }
   ],
   "source": [
    "idx = 6\n",
    "# loc = Localizer(Z[idx], r.transpose()[:5], index=idx, check_import=True)\n",
    "loc = Localizer(Z[idx], R[idx], index=idx, check_import=True)\n",
    "\n",
    "grid = esp.generate_grid(loc.R,r_max=10, min_points=10000)\n",
    "mask = esp.generate_mask(grid, loc.R, loc.Z)\n",
    "\n",
    "# Put grid in a format so that psi4 can read it in.\n",
    "grid = np.moveaxis(grid,0,-1)\n",
    "\n",
    "# Psi4 will look for a grid.dat file when calculating\n",
    "# the ESP using the density.\n",
    "int_grid = np.moveaxis(grid[np.where(mask == -1)], 0, 1)\n",
    "on_grid = np.moveaxis(grid[np.where(mask == 1)], 0, 1)\n",
    "ext_grid = np.moveaxis(grid[np.where(mask == 0)], 0, 1)\n",
    "\n",
    "%matplotlib widget\n",
    "\n",
    "fig = plt.figure()\n",
    "ax = fig.add_subplot(projection='3d')\n",
    "\n",
    "ax.scatter(int_grid[0],int_grid[1],int_grid[2], marker='.', c='r', alpha=0.3)\n",
    "ax.scatter(on_grid[0],on_grid[1],on_grid[2], marker='.', c='b', alpha=0.3)\n",
    "# ax.scatter(ext_grid[0],ext_grid[1],ext_grid[2], marker='.', c='y', alpha=0.2)\n",
    "_R = loc.R.transpose()\n",
    "ax.scatter(_R[0], _R[1], _R[2], marker='o', c='k', alpha=0.9)\n",
    "\n",
    "plt.show()"
   ]
  }
 ],
 "metadata": {
  "kernelspec": {
   "display_name": "Python 3",
   "language": "python",
   "name": "python3"
  },
  "language_info": {
   "codemirror_mode": {
    "name": "ipython",
    "version": 3
   },
   "file_extension": ".py",
   "mimetype": "text/x-python",
   "name": "python",
   "nbconvert_exporter": "python",
   "pygments_lexer": "ipython3",
   "version": "3.7.9"
  }
 },
 "nbformat": 4,
 "nbformat_minor": 5
}
