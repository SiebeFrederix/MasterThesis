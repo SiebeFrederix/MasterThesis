{
 "cells": [
  {
   "cell_type": "code",
   "execution_count": 11,
   "id": "affected-biology",
   "metadata": {
    "tags": []
   },
   "outputs": [],
   "source": [
    "import numpy as np\n",
    "import scipy.linalg\n",
    "from scipy.stats import ortho_group\n",
    "from scipy.io import loadmat\n",
    "from localizer import Localizer\n",
    "import psi4\n",
    "from iodata import load_one, dump_one\n",
    "\n",
    "#https://github.com/molmod/molmod\n",
    "from molmod.units import angstrom, debye\n",
    "\n",
    "import matplotlib.pyplot as plt\n",
    "import json\n",
    "\n",
    "#importing the QM7 database\n",
    "data = dict(loadmat('../molecule_geometries/qm7.mat'))\n",
    "Z = data['Z'] # numbers\n",
    "R = data['R']/angstrom # positions in angstrom\n",
    "\n",
    "# Molecule order: H2O,CO2,HCN,Acetonitrile,H2SO4,Benzene,Diborane\n",
    "numbers = np.load('../molecule_geometries/nuclei_numbers.npy')\n",
    "positions = np.load('../molecule_geometries/positions.npy')"
   ]
  },
  {
   "cell_type": "code",
   "execution_count": 2,
   "id": "instructional-highway",
   "metadata": {},
   "outputs": [
    {
     "name": "stdout",
     "output_type": "stream",
     "text": [
      "Psi4 Model initiated with method scf and basis set 6-311ppg_d_p_\n"
     ]
    }
   ],
   "source": [
    "loc = Localizer(Z[0],R[0],0)"
   ]
  },
  {
   "cell_type": "code",
   "execution_count": 2,
   "id": "suited-authentication",
   "metadata": {},
   "outputs": [
    {
     "name": "stdout",
     "output_type": "stream",
     "text": [
      "Psi4 Model initiated with method scf and basis set 6-311ppg_d_p_\n"
     ]
    }
   ],
   "source": [
    "loc = Localizer(numbers[4],positions[4])"
   ]
  },
  {
   "cell_type": "code",
   "execution_count": 33,
   "id": "experienced-pitch",
   "metadata": {},
   "outputs": [
    {
     "name": "stdout",
     "output_type": "stream",
     "text": [
      "Psi4 Model initiated with method scf and basis set 6-311ppg_d_p_\n"
     ]
    }
   ],
   "source": [
    "loc = Localizer(numbers[5],positions[5])"
   ]
  },
  {
   "cell_type": "code",
   "execution_count": 8,
   "id": "future-product",
   "metadata": {},
   "outputs": [
    {
     "data": {
      "text/plain": [
       "['FB', 1.0]"
      ]
     },
     "execution_count": 8,
     "metadata": {},
     "output_type": "execute_result"
    }
   ],
   "source": [
    "loc.set_scheme('FB')\n",
    "loc.scheme"
   ]
  },
  {
   "cell_type": "code",
   "execution_count": 12,
   "id": "living-latvia",
   "metadata": {},
   "outputs": [
    {
     "data": {
      "text/plain": [
       "['V3', 1.0]"
      ]
     },
     "execution_count": 12,
     "metadata": {},
     "output_type": "execute_result"
    }
   ],
   "source": [
    "loc.set_scheme('V3')\n",
    "loc.scheme"
   ]
  },
  {
   "cell_type": "code",
   "execution_count": 23,
   "id": "sound-slope",
   "metadata": {},
   "outputs": [
    {
     "data": {
      "text/plain": [
       "['V4', 1.0]"
      ]
     },
     "execution_count": 23,
     "metadata": {},
     "output_type": "execute_result"
    }
   ],
   "source": [
    "loc.set_scheme('V4')\n",
    "loc.scheme"
   ]
  },
  {
   "cell_type": "code",
   "execution_count": 34,
   "id": "executive-fitness",
   "metadata": {
    "scrolled": true,
    "tags": []
   },
   "outputs": [
    {
     "name": "stdout",
     "output_type": "stream",
     "text": [
      "Optimizing cost function: FB\n",
      "Convergence: norm of riemann gradient below 10^-5\n"
     ]
    },
    {
     "data": {
      "text/plain": [
       "True"
      ]
     },
     "execution_count": 34,
     "metadata": {},
     "output_type": "execute_result"
    }
   ],
   "source": [
    "loc.optimize_line_search(nsteps=1000, psi4_guess=False, save_iteration=15)"
   ]
  },
  {
   "cell_type": "code",
   "execution_count": 40,
   "id": "armed-notion",
   "metadata": {
    "tags": []
   },
   "outputs": [
    {
     "data": {
      "text/plain": [
       "Text(0, 0.5, '$norm(\\\\mathbf{G}_k)$')"
      ]
     },
     "execution_count": 40,
     "metadata": {},
     "output_type": "execute_result"
    },
    {
     "data": {
      "image/png": "[encoded data removed]",
      "text/plain": [
       "<Figure size 432x288 with 1 Axes>"
      ]
     },
     "metadata": {
      "needs_background": "light"
     },
     "output_type": "display_data"
    }
   ],
   "source": [
    "plt.plot(loc.conv_hist[np.where(loc.conv_hist != 0.)])\n",
    "plt.yscale('log')\n",
    "plt.xlabel('$k$')\n",
    "plt.ylabel('$norm(\\mathbf{G}_k)$')\n",
    "# plt.savefig('norm_GCPR')"
   ]
  },
  {
   "cell_type": "code",
   "execution_count": 6,
   "id": "interested-italian",
   "metadata": {
    "tags": []
   },
   "outputs": [
    {
     "data": {
      "text/plain": [
       "Text(0, 0.5, '$\\\\mu$')"
      ]
     },
     "execution_count": 6,
     "metadata": {},
     "output_type": "execute_result"
    },
    {
     "data": {
      "image/png": "[encoded data removed]",
      "text/plain": [
       "<Figure size 432x288 with 1 Axes>"
      ]
     },
     "metadata": {
      "needs_background": "light"
     },
     "output_type": "display_data"
    }
   ],
   "source": [
    "plt.plot(loc.step_hist[np.where(loc.conv_hist != 0.)])\n",
    "plt.yscale('log')\n",
    "plt.xlabel('$k$')\n",
    "plt.ylabel('$\\mu$')\n",
    "# plt.savefig('norm_GCPR')"
   ]
  },
  {
   "cell_type": "code",
   "execution_count": 5,
   "id": "electronic-cycling",
   "metadata": {},
   "outputs": [
    {
     "data": {
      "text/plain": [
       "array([[ 2.98160287e-05, -5.30001466e-05, -1.80407252e-04],\n",
       "       [-5.30001466e-05,  7.36099922e-05, -2.54815121e-04],\n",
       "       [-1.80407252e-04, -2.54815121e-04, -1.03426021e-04]])"
      ]
     },
     "execution_count": 5,
     "metadata": {},
     "output_type": "execute_result"
    }
   ],
   "source": [
    "loc.compare_quadrupole()"
   ]
  },
  {
   "cell_type": "code",
   "execution_count": 6,
   "id": "nuclear-fighter",
   "metadata": {},
   "outputs": [
    {
     "data": {
      "text/plain": [
       "DeviceArray(-6.9366432e-07, dtype=float64)"
      ]
     },
     "execution_count": 6,
     "metadata": {},
     "output_type": "execute_result"
    }
   ],
   "source": [
    "loc.V4_cost(loc.W)"
   ]
  },
  {
   "cell_type": "code",
   "execution_count": 29,
   "id": "aggressive-discretion",
   "metadata": {},
   "outputs": [
    {
     "data": {
      "text/plain": [
       "array([1, 2, 3, 4])"
      ]
     },
     "execution_count": 29,
     "metadata": {},
     "output_type": "execute_result"
    }
   ],
   "source": [
    "np.array(range(1,5))"
   ]
  },
  {
   "cell_type": "code",
   "execution_count": 13,
   "id": "suffering-thomas",
   "metadata": {},
   "outputs": [],
   "source": [
    "test_dict = {'CompareQuad': loc.compare_quadrupole().tolist(),\n",
    "             'TotalQuad' : loc.total_quadrupole.tolist(),\n",
    "             'LocalQuad' : loc.total_loc_quadrupole.tolist()}"
   ]
  },
  {
   "cell_type": "code",
   "execution_count": 16,
   "id": "religious-evanescence",
   "metadata": {},
   "outputs": [],
   "source": [
    "test_list = [test_dict, test_dict, test_dict]"
   ]
  },
  {
   "cell_type": "code",
   "execution_count": 19,
   "id": "official-office",
   "metadata": {},
   "outputs": [],
   "source": [
    "with open('test.json', 'w') as fout:\n",
    "    json.dump(test_list, fout)\n",
    "fout.close()"
   ]
  },
  {
   "cell_type": "code",
   "execution_count": 20,
   "id": "anonymous-recovery",
   "metadata": {},
   "outputs": [],
   "source": [
    "with open('test.json', 'r') as read_file:\n",
    "    new_test_list = json.load(read_file)"
   ]
  },
  {
   "cell_type": "code",
   "execution_count": 25,
   "id": "isolated-password",
   "metadata": {},
   "outputs": [],
   "source": [
    "new_test_list[0]['CompareQuad'] = loc.compare_quadrupole().tolist()"
   ]
  },
  {
   "cell_type": "code",
   "execution_count": 26,
   "id": "healthy-slovenia",
   "metadata": {},
   "outputs": [
    {
     "data": {
      "text/plain": [
       "[[-0.0011216863234926322, -0.001473671466924481, -0.0017759644940416666],\n",
       " [-0.001473671466924481, 0.0005017155352544655, 0.00033984305070364445],\n",
       " [-0.0017759644940416666, 0.00033984305070364445, 0.0006199707882355021]]"
      ]
     },
     "execution_count": 26,
     "metadata": {},
     "output_type": "execute_result"
    }
   ],
   "source": [
    "new_test_list[0]['CompareQuad']"
   ]
  },
  {
   "cell_type": "code",
   "execution_count": 13,
   "id": "wound-violin",
   "metadata": {},
   "outputs": [
    {
     "data": {
      "text/plain": [
       "array([[-3.90901169e-01,  6.26238439e-05,  1.16020805e-04],\n",
       "       [ 6.26238439e-05,  1.95915017e-01, -9.49339634e-05],\n",
       "       [ 1.16020805e-04, -9.49339634e-05,  1.94986152e-01]])"
      ]
     },
     "execution_count": 13,
     "metadata": {},
     "output_type": "execute_result"
    }
   ],
   "source": [
    "loc.compare_quadrupole()"
   ]
  },
  {
   "cell_type": "code",
   "execution_count": 14,
   "id": "communist-craps",
   "metadata": {},
   "outputs": [
    {
     "data": {
      "text/plain": [
       "DeviceArray(-0.73073785, dtype=float64)"
      ]
     },
     "execution_count": 14,
     "metadata": {},
     "output_type": "execute_result"
    }
   ],
   "source": [
    "loc.V4_cost(loc.W)"
   ]
  },
  {
   "cell_type": "code",
   "execution_count": 15,
   "id": "monetary-today",
   "metadata": {},
   "outputs": [
    {
     "data": {
      "text/plain": [
       "array([[-5.38752474e-01, -5.80421280e-05,  1.95854146e-05],\n",
       "       [-5.80421280e-05,  2.69256583e-01,  7.88800924e-05],\n",
       "       [ 1.95854146e-05,  7.88800924e-05,  2.69495891e-01]])"
      ]
     },
     "execution_count": 15,
     "metadata": {},
     "output_type": "execute_result"
    }
   ],
   "source": [
    "loc.compare_quadrupole()"
   ]
  },
  {
   "cell_type": "code",
   "execution_count": 16,
   "id": "alien-enzyme",
   "metadata": {},
   "outputs": [
    {
     "data": {
      "text/plain": [
       "DeviceArray(-1.38805076, dtype=float64)"
      ]
     },
     "execution_count": 16,
     "metadata": {},
     "output_type": "execute_result"
    }
   ],
   "source": [
    "loc.V4_cost(loc.W)"
   ]
  },
  {
   "cell_type": "code",
   "execution_count": 4,
   "id": "sensitive-reply",
   "metadata": {},
   "outputs": [],
   "source": [
    "loc.write_centers()"
   ]
  },
  {
   "cell_type": "code",
   "execution_count": 5,
   "id": "blessed-workshop",
   "metadata": {},
   "outputs": [],
   "source": [
    "loc.write_orbitals()"
   ]
  },
  {
   "cell_type": "markdown",
   "id": "supported-access",
   "metadata": {},
   "source": [
    "## Second attempt using molden files"
   ]
  },
  {
   "cell_type": "code",
   "execution_count": null,
   "id": "available-compact",
   "metadata": {},
   "outputs": [],
   "source": [
    "psi4.molden(loc.model.wavefunction,'methane.molden')"
   ]
  },
  {
   "cell_type": "code",
   "execution_count": null,
   "id": "convinced-banks",
   "metadata": {},
   "outputs": [],
   "source": [
    "methane = load_one('methane.molden')\n",
    "methane_mo = methane.mo\n",
    "molden_C_occ = methane_mo.coeffs\n",
    "molden_C_occ[:,:loc.N_occ] = loc.L_occ\n",
    "methane_mo.coeffs = molden_C_occ\n",
    "dump_one(methane, 'methane_test.fchk')"
   ]
  },
  {
   "cell_type": "markdown",
   "id": "visible-looking",
   "metadata": {},
   "source": [
    "## Plotting the polynomial approximation"
   ]
  },
  {
   "cell_type": "code",
   "execution_count": 18,
   "id": "viral-ordinary",
   "metadata": {},
   "outputs": [
    {
     "data": {
      "text/plain": [
       "<matplotlib.legend.Legend at 0x7fd93c70f850>"
      ]
     },
     "execution_count": 18,
     "metadata": {},
     "output_type": "execute_result"
    },
    {
     "data": {
      "image/png": "[encoded data removed]",
      "text/plain": [
       "<Figure size 750x600 with 2 Axes>"
      ]
     },
     "metadata": {
      "needs_background": "light"
     },
     "output_type": "display_data"
    }
   ],
   "source": [
    "mu = np.linspace(0,loc.iteration_hist['MuMax'], 100)\n",
    "dJ_mu = np.zeros((100))\n",
    "J_mu = np.zeros((100))\n",
    "\n",
    "H = loc.iteration_hist['H']\n",
    "W = loc.iteration_hist['W']\n",
    "\n",
    "for i in range(100):\n",
    "    R = scipy.linalg.expm(mu[i]*H)\n",
    "    J_mu[i] = np.array(loc.cost_function(np.dot(R,W)))\n",
    "    inter_grad = np.array(loc.cost_grad(np.dot(R,W)))\n",
    "    dJ_mu[i] = -2*np.einsum('ij,kj,lk,il',inter_grad, W, R, H)\n",
    "\n",
    "dJ_mu_fit = np.polynomial.polynomial.polyval(mu, np.flip(loc.iteration_hist['PolyCoeffs']))\n",
    "\n",
    "fig, ax = plt.subplots(1, 1, figsize=(5,4), squeeze=False, dpi=150)\n",
    "\n",
    "ax = ax[0][0]\n",
    "lns1 = ax.plot(mu, dJ_mu, color='b', label='$\\partial\\mathcal{J}(\\mu)$')\n",
    "lns2 = ax.plot(mu, dJ_mu_fit, linestyle='--', color='r', label='$\\partial\\mathcal{J}(\\mu)$ fit')\n",
    "ax.vlines(np.real(loc.iteration_hist['Root']), np.min(dJ_mu), np.max(dJ_mu), linestyle='dotted', color='k')\n",
    "ax.hlines(0, np.min(mu), np.max(mu), linestyle='dotted', color='gray')\n",
    "ax.ticklabel_format(axis='both', style='scientific', scilimits=(0,0))\n",
    "ax.set_ylabel('$\\partial \\mathcal{J}/\\partial \\mu (exp(\\mu\\mathbf{H})\\mathbf{W})$')\n",
    "ax.set_xlabel('$\\mu$')\n",
    "ax.legend()\n",
    "\n",
    "ax2 = ax.twinx()\n",
    "lns3 = ax2.plot(mu, J_mu, color='g', label='$\\mathcal{J}(\\mu)$')\n",
    "ax2.set_ylabel('$\\mathcal{J}(exp(\\mu\\mathbf{H})\\mathbf{W})$')\n",
    "\n",
    "leg = lns1 + lns2 + lns3\n",
    "labs = [l.get_label() for l in leg]\n",
    "# ax.legend(leg, labs, loc='lower center')\n",
    "ax.legend(leg, labs, loc='upper left', bbox_to_anchor=(1.1, 1.))\n",
    "# ax2.legend()\n",
    "# plt.grid()\n",
    "# print(loc.iteration_hist['Root'])"
   ]
  }
 ],
 "metadata": {
  "kernelspec": {
   "display_name": "Python 3",
   "language": "python",
   "name": "python3"
  },
  "language_info": {
   "codemirror_mode": {
    "name": "ipython",
    "version": 3
   },
   "file_extension": ".py",
   "mimetype": "text/x-python",
   "name": "python",
   "nbconvert_exporter": "python",
   "pygments_lexer": "ipython3",
   "version": "3.7.9"
  }
 },
 "nbformat": 4,
 "nbformat_minor": 5
}
